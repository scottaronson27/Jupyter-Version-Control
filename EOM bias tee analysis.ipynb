{
 "cells": [
  {
   "cell_type": "code",
   "execution_count": 23,
   "metadata": {},
   "outputs": [],
   "source": [
    "import cmath\n",
    "import matplotlib\n",
    "import numpy as np\n",
    "import pylab\n",
    "from pylab import *\n",
    "m=1e-3\n",
    "u=1e-6\n",
    "n=1e-9\n",
    "p=1e-12"
   ]
  },
  {
   "cell_type": "code",
   "execution_count": 24,
   "metadata": {},
   "outputs": [],
   "source": [
    "def H(w):\n",
    "    L1=500*u\n",
    "    L2=927*n\n",
    "    C1=100*u\n",
    "    C2=20*p\n",
    "\n",
    "\n",
    "    ZL1 = w*L1*1j\n",
    "    ZC1 = 1/(w*C1*1j)\n",
    "    ZL2 = 1j*w*L2\n",
    "    ZC2 = 1/(1j*w*C2)\n",
    "\n",
    "    A=(ZL2**(-1)+ZC2**(-1))**(-1)\n",
    "    Ztot=((A+ZC1)**(-1)+ZL1**(-1))**(-1)\n",
    "    \n",
    "    return Ztot"
   ]
  },
  {
   "cell_type": "code",
   "execution_count": 26,
   "metadata": {},
   "outputs": [
    {
     "data": {
      "image/png": "[encoded data removed]",
      "text/plain": [
       "<Figure size 432x288 with 1 Axes>"
      ]
     },
     "metadata": {
      "needs_background": "light"
     },
     "output_type": "display_data"
    }
   ],
   "source": [
    "f=logspace(6,7)\n",
    "plot(f, 20*log10(abs(H(2*pi*f)))); xscale('log')"
   ]
  },
  {
   "cell_type": "code",
   "execution_count": null,
   "metadata": {},
   "outputs": [],
   "source": []
  }
 ],
 "metadata": {
  "kernelspec": {
   "display_name": "Python 3",
   "language": "python",
   "name": "python3"
  },
  "language_info": {
   "codemirror_mode": {
    "name": "ipython",
    "version": 3
   },
   "file_extension": ".py",
   "mimetype": "text/x-python",
   "name": "python",
   "nbconvert_exporter": "python",
   "pygments_lexer": "ipython3",
   "version": "3.7.3"
  }
 },
 "nbformat": 4,
 "nbformat_minor": 2
}
